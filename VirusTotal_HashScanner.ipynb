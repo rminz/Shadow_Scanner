{
 "cells": [
  {
   "cell_type": "code",
   "execution_count": 2,
   "metadata": {},
   "outputs": [
    {
     "name": "stdout",
     "output_type": "stream",
     "text": [
      "\u001b[41mMalicious\n",
      "{'scans': {'Bkav': {'detected': False, 'version': '1.3.0.9898', 'result': None, 'update': '20181107'}, 'MicroWorld-eScan': {'detected': True, 'version': '14.0.297.0', 'result': 'Trojan.Linux.Generic.6160', 'update': '20181107'}, 'CMC': {'detected': False, 'version': '1.1.0.977', 'result': None, 'update': '20181107'}, 'CAT-QuickHeal': {'detected': True, 'version': '14.00', 'result': 'TrojanDDoS.Linux.DnsAmp.A', 'update': '20181105'}, 'McAfee': {'detected': True, 'version': '6.0.6.653', 'result': 'Linux/Dofloo.a', 'update': '20181107'}, 'Malwarebytes': {'detected': False, 'version': '2.1.1.1115', 'result': None, 'update': '20181107'}, 'Zillya': {'detected': True, 'version': '2.0.0.3685', 'result': 'Downloader.OpenConnection.JS.105112', 'update': '20181106'}, 'SUPERAntiSpyware': {'detected': False, 'version': '5.6.0.1032', 'result': None, 'update': '20181107'}, 'TheHacker': {'detected': False, 'version': '6.8.0.5.3834', 'result': None, 'update': '20181107'}, 'K7GW': {'detected': False, 'version': '11.10.28955', 'result': None, 'update': '20181107'}, 'K7AntiVirus': {'detected': False, 'version': '11.10.28959', 'result': None, 'update': '20181107'}, 'Baidu': {'detected': False, 'version': '1.0.0.2', 'result': None, 'update': '20181107'}, 'NANO-Antivirus': {'detected': True, 'version': '1.0.134.24299', 'result': 'Trojan.Elf32.Dofloo.efsxke', 'update': '20181107'}, 'F-Prot': {'detected': False, 'version': '4.7.1.166', 'result': None, 'update': '20181107'}, 'Symantec': {'detected': True, 'version': '1.8.0.0', 'result': 'Linux.Dofloo', 'update': '20181107'}, 'ESET-NOD32': {'detected': True, 'version': '18343', 'result': 'Linux/Dofloo.A', 'update': '20181107'}, 'TrendMicro-HouseCall': {'detected': True, 'version': '10.0.0.1040', 'result': 'TROJ_FRS.VSN14G18', 'update': '20181107'}, 'Avast': {'detected': True, 'version': '18.4.3895.0', 'result': 'ELF:Aesddos-H [Trj]', 'update': '20181107'}, 'ClamAV': {'detected': True, 'version': '0.100.2.0', 'result': 'Unix.Trojan.Spike-6301360-0', 'update': '20181107'}, 'Kaspersky': {'detected': True, 'version': '15.0.1.13', 'result': 'Backdoor.Linux.Dofloo.b', 'update': '20181107'}, 'BitDefender': {'detected': True, 'version': '7.2', 'result': 'Trojan.Linux.Generic.6160', 'update': '20181107'}, 'Babable': {'detected': False, 'version': '9107201', 'result': None, 'update': '20180918'}, 'AegisLab': {'detected': False, 'version': '4.2', 'result': None, 'update': '20181107'}, 'Rising': {'detected': True, 'version': '25.0.0.24', 'result': 'Trojan.DDoS-MrBlack/Linux!1.A484 (CLASSIC)', 'update': '20181107'}, 'Ad-Aware': {'detected': True, 'version': '3.0.5.370', 'result': 'Trojan.Linux.Generic.6160', 'update': '20181107'}, 'Emsisoft': {'detected': True, 'version': '2018.4.0.1029', 'result': 'Trojan.Linux.Generic.6160 (B)', 'update': '20181107'}, 'F-Secure': {'detected': True, 'version': '11.0.19100.45', 'result': 'Trojan.Linux.Generic.6160', 'update': '20181107'}, 'DrWeb': {'detected': True, 'version': '7.0.33.6080', 'result': 'Linux.Mrblack.34', 'update': '20181107'}, 'VIPRE': {'detected': False, 'version': '70812', 'result': None, 'update': '20181107'}, 'TrendMicro': {'detected': True, 'version': '10.0.0.1040', 'result': 'TROJ_FRS.VSN14G18', 'update': '20181107'}, 'McAfee-GW-Edition': {'detected': True, 'version': 'v2017.3010', 'result': 'Linux/Dofloo.a', 'update': '20181107'}, 'Sophos': {'detected': True, 'version': '4.98.0', 'result': 'Linux/DDoS-BE', 'update': '20181107'}, 'Cyren': {'detected': True, 'version': '6.0.0.4', 'result': 'ELF/Trojan.YLAA-0', 'update': '20181107'}, 'Jiangmin': {'detected': False, 'version': '16.0.100', 'result': None, 'update': '20181107'}, 'Avira': {'detected': True, 'version': '8.3.3.6', 'result': 'LINUX/Dofloo.AA', 'update': '20181107'}, 'Fortinet': {'detected': True, 'version': '5.4.247.0', 'result': 'ELF/DDoS.BE!tr', 'update': '20181107'}, 'Antiy-AVL': {'detected': True, 'version': '3.0.0.1', 'result': 'Trojan[Backdoor]/Linux.Dofloo.b', 'update': '20181107'}, 'Kingsoft': {'detected': False, 'version': '2013.8.14.323', 'result': None, 'update': '20181107'}, 'Arcabit': {'detected': True, 'version': '1.0.0.833', 'result': 'Trojan.Linux.Generic.D1810', 'update': '20181107'}, 'ViRobot': {'detected': False, 'version': '2014.3.20.0', 'result': None, 'update': '20181107'}, 'AhnLab-V3': {'detected': True, 'version': '3.13.1.22397', 'result': 'Linux/Flooder.1870048', 'update': '20181107'}, 'ZoneAlarm': {'detected': True, 'version': '1.0', 'result': 'Backdoor.Linux.Dofloo.b', 'update': '20181107'}, 'Avast-Mobile': {'detected': True, 'version': '181107-00', 'result': 'ELF:Flooder-SR [Trj]', 'update': '20181107'}, 'Microsoft': {'detected': True, 'version': '1.1.15400.4', 'result': 'Trojan:Win32/Skeeyah.A!rfn', 'update': '20181107'}, 'TACHYON': {'detected': False, 'version': '2018-11-07.02', 'result': None, 'update': '20181107'}, 'TotalDefense': {'detected': False, 'version': '37.1.62.1', 'result': None, 'update': '20181107'}, 'VBA32': {'detected': False, 'version': '3.33.0', 'result': None, 'update': '20181106'}, 'ALYac': {'detected': True, 'version': '1.1.1.5', 'result': 'Trojan.Linux.Generic.6160', 'update': '20181107'}, 'MAX': {'detected': True, 'version': '2018.9.12.1', 'result': 'malware (ai score=98)', 'update': '20181107'}, 'Zoner': {'detected': False, 'version': '1.0', 'result': None, 'update': '20181107'}, 'Tencent': {'detected': True, 'version': '1.0.0.1', 'result': 'Trojan.Linux.Dofloo.ba', 'update': '20181107'}, 'Yandex': {'detected': False, 'version': '5.5.1.3', 'result': None, 'update': '20181107'}, 'Ikarus': {'detected': True, 'version': '0.1.5.2', 'result': 'Backdoor.Linux.Dofloo', 'update': '20181107'}, 'GData': {'detected': True, 'version': 'A:25.19278B:25.13617', 'result': 'Trojan.Linux.Generic.6160', 'update': '20181107'}, 'AVG': {'detected': True, 'version': '18.4.3895.0', 'result': 'ELF:Aesddos-H [Trj]', 'update': '20181107'}, 'Panda': {'detected': False, 'version': '4.6.4.2', 'result': None, 'update': '20181107'}, 'Qihoo-360': {'detected': True, 'version': '1.0.0.1120', 'result': 'Malware.Radar01.Gen', 'update': '20181107'}}, 'scan_id': 'fc519396d5c6fe71aa87bdcc2cc11635bc2db7a7f7c75f50670d9493cb528e59-1541614454', 'sha1': 'c1b1c4582053ea9c586fd6bcc0e55348881146a6', 'resource': 'fc519396d5c6fe71aa87bdcc2cc11635bc2db7a7f7c75f50670d9493cb528e59', 'response_code': 1, 'scan_date': '2018-11-07 18:14:14', 'permalink': 'https://www.virustotal.com/file/fc519396d5c6fe71aa87bdcc2cc11635bc2db7a7f7c75f50670d9493cb528e59/analysis/1541614454/', 'verbose_msg': 'Scan finished, information embedded', 'total': 57, 'positives': 36, 'sha256': 'fc519396d5c6fe71aa87bdcc2cc11635bc2db7a7f7c75f50670d9493cb528e59', 'md5': 'aeffdae8ccb7c86d3868369781b70e14'}\n",
      "\u001b[42mclean\n",
      "{'scans': {'Bkav': {'detected': False, 'version': '1.3.0.9466', 'result': None, 'update': '20180410'}, 'MicroWorld-eScan': {'detected': False, 'version': '14.0.297.0', 'result': None, 'update': '20180419'}, 'nProtect': {'detected': False, 'version': '2018-04-19.01', 'result': None, 'update': '20180419'}, 'CMC': {'detected': False, 'version': '1.1.0.977', 'result': None, 'update': '20180418'}, 'CAT-QuickHeal': {'detected': False, 'version': '14.00', 'result': None, 'update': '20180418'}, 'ALYac': {'detected': False, 'version': '1.1.1.5', 'result': None, 'update': '20180419'}, 'Malwarebytes': {'detected': False, 'version': '2.1.1.1115', 'result': None, 'update': '20180419'}, 'Zillya': {'detected': False, 'version': '2.0.0.3538', 'result': None, 'update': '20180418'}, 'SUPERAntiSpyware': {'detected': False, 'version': '5.6.0.1032', 'result': None, 'update': '20180419'}, 'TheHacker': {'detected': False, 'version': '6.8.0.5.2674', 'result': None, 'update': '20180415'}, 'K7GW': {'detected': False, 'version': '10.45.26868', 'result': None, 'update': '20180418'}, 'K7AntiVirus': {'detected': False, 'version': '10.45.26868', 'result': None, 'update': '20180418'}, 'Baidu': {'detected': False, 'version': '1.0.0.2', 'result': None, 'update': '20180417'}, 'F-Prot': {'detected': False, 'version': '4.7.1.166', 'result': None, 'update': '20180419'}, 'Symantec': {'detected': False, 'version': '1.5.0.0', 'result': None, 'update': '20180418'}, 'ESET-NOD32': {'detected': False, 'version': '17246', 'result': None, 'update': '20180419'}, 'TrendMicro-HouseCall': {'detected': False, 'version': '9.950.0.1006', 'result': None, 'update': '20180419'}, 'Avast': {'detected': False, 'version': '18.3.3860.0', 'result': None, 'update': '20180419'}, 'ClamAV': {'detected': False, 'version': '0.99.2.0', 'result': None, 'update': '20180418'}, 'Kaspersky': {'detected': False, 'version': '15.0.1.13', 'result': None, 'update': '20180419'}, 'BitDefender': {'detected': False, 'version': '7.2', 'result': None, 'update': '20180419'}, 'NANO-Antivirus': {'detected': False, 'version': '1.0.106.22618', 'result': None, 'update': '20180419'}, 'ViRobot': {'detected': False, 'version': '2014.3.20.0', 'result': None, 'update': '20180418'}, 'Tencent': {'detected': False, 'version': '1.0.0.1', 'result': None, 'update': '20180419'}, 'Ad-Aware': {'detected': False, 'version': '3.0.5.370', 'result': None, 'update': '20180419'}, 'Emsisoft': {'detected': False, 'version': '4.0.2.899', 'result': None, 'update': '20180419'}, 'Comodo': {'detected': False, 'version': '28881', 'result': None, 'update': '20180419'}, 'F-Secure': {'detected': False, 'version': '11.0.19100.45', 'result': None, 'update': '20180419'}, 'DrWeb': {'detected': False, 'version': '7.0.28.2020', 'result': None, 'update': '20180419'}, 'VIPRE': {'detected': False, 'version': '66088', 'result': None, 'update': '20180419'}, 'TrendMicro': {'detected': False, 'version': '10.0.0.1040', 'result': None, 'update': '20180419'}, 'McAfee-GW-Edition': {'detected': False, 'version': 'v2015', 'result': None, 'update': '20180419'}, 'Sophos': {'detected': False, 'version': '4.98.0', 'result': None, 'update': '20180418'}, 'Cyren': {'detected': False, 'version': '5.4.30.7', 'result': None, 'update': '20180419'}, 'Jiangmin': {'detected': False, 'version': '16.0.100', 'result': None, 'update': '20180419'}, 'Webroot': {'detected': False, 'version': '1.0.0.403', 'result': None, 'update': '20180419'}, 'Avira': {'detected': False, 'version': '8.3.3.6', 'result': None, 'update': '20180418'}, 'Fortinet': {'detected': False, 'version': '5.4.247.0', 'result': None, 'update': '20180419'}, 'Antiy-AVL': {'detected': False, 'version': '3.0.0.1', 'result': None, 'update': '20180418'}, 'Kingsoft': {'detected': False, 'version': '2013.8.14.323', 'result': None, 'update': '20180419'}, 'Arcabit': {'detected': False, 'version': '1.0.0.831', 'result': None, 'update': '20180419'}, 'AegisLab': {'detected': False, 'version': '4.2', 'result': None, 'update': '20180419'}, 'AhnLab-V3': {'detected': False, 'version': '3.12.0.20656', 'result': None, 'update': '20180418'}, 'ZoneAlarm': {'detected': False, 'version': '1.0', 'result': None, 'update': '20180419'}, 'Avast-Mobile': {'detected': False, 'version': '180418-02', 'result': None, 'update': '20180418'}, 'Microsoft': {'detected': False, 'version': '1.1.14700.5', 'result': None, 'update': '20180419'}, 'TotalDefense': {'detected': False, 'version': '37.1.62.1', 'result': None, 'update': '20180418'}, 'McAfee': {'detected': False, 'version': '6.0.6.653', 'result': None, 'update': '20180419'}, 'AVware': {'detected': False, 'version': '1.5.0.42', 'result': None, 'update': '20180419'}, 'MAX': {'detected': False, 'version': '2017.11.15.1', 'result': None, 'update': '20180419'}, 'VBA32': {'detected': False, 'version': '3.12.28.0', 'result': None, 'update': '20180418'}, 'WhiteArmor': {'detected': False, 'version': None, 'result': None, 'update': '20180408'}, 'Zoner': {'detected': False, 'version': '1.0', 'result': None, 'update': '20180418'}, 'Rising': {'detected': False, 'version': '25.0.0.1', 'result': None, 'update': '20180419'}, 'Yandex': {'detected': False, 'version': '5.5.1.3', 'result': None, 'update': '20180417'}, 'Ikarus': {'detected': False, 'version': '0.1.5.2', 'result': None, 'update': '20180418'}, 'GData': {'detected': False, 'version': 'A:25.16778B:25.12064', 'result': None, 'update': '20180419'}, 'AVG': {'detected': False, 'version': '18.3.3860.0', 'result': None, 'update': '20180419'}, 'Panda': {'detected': False, 'version': '4.6.4.2', 'result': None, 'update': '20180418'}, 'Qihoo-360': {'detected': False, 'version': '1.0.0.1120', 'result': None, 'update': '20180419'}}, 'scan_id': '0293300dd762fa18a428d9157ebc7f26ffaf3ebcb3971a2e466696e90184659f-1524110530', 'sha1': '0675d7a0aace23297ce6b41c158addb9cf94f8b2', 'resource': '0293300dd762fa18a428d9157ebc7f26ffaf3ebcb3971a2e466696e90184659f', 'response_code': 1, 'scan_date': '2018-04-19 04:02:10', 'permalink': 'https://www.virustotal.com/file/0293300dd762fa18a428d9157ebc7f26ffaf3ebcb3971a2e466696e90184659f/analysis/1524110530/', 'verbose_msg': 'Scan finished, information embedded', 'total': 60, 'positives': 0, 'sha256': '0293300dd762fa18a428d9157ebc7f26ffaf3ebcb3971a2e466696e90184659f', 'md5': 'b4b7e1d2cede548e6027d7072dd6c733'}\n"
     ]
    },
    {
     "name": "stdout",
     "output_type": "stream",
     "text": [
      "\u001b[47mUnknown\n",
      "{'response_code': 0, 'resource': '05fe56f666cb6d18c657e0a9d2265587f012f6459024089686d033662e47c313', 'verbose_msg': 'The requested resource is not among the finished, queued or pending scans'}\n",
      "\u001b[43mSuspicious\n",
      "{'scans': {'Bkav': {'detected': False, 'version': '1.3.0.9466', 'result': None, 'update': '20180630'}, 'TotalDefense': {'detected': False, 'version': '37.1.62.1', 'result': None, 'update': '20180701'}, 'MicroWorld-eScan': {'detected': False, 'version': '14.0.297.0', 'result': None, 'update': '20180701'}, 'CMC': {'detected': False, 'version': '1.1.0.977', 'result': None, 'update': '20180630'}, 'CAT-QuickHeal': {'detected': False, 'version': '14.00', 'result': None, 'update': '20180630'}, 'ALYac': {'detected': False, 'version': '1.1.1.5', 'result': None, 'update': '20180701'}, 'Malwarebytes': {'detected': False, 'version': '2.1.1.1115', 'result': None, 'update': '20180701'}, 'Zillya': {'detected': False, 'version': '2.0.0.3584', 'result': None, 'update': '20180629'}, 'SUPERAntiSpyware': {'detected': False, 'version': '5.6.0.1032', 'result': None, 'update': '20180701'}, 'K7AntiVirus': {'detected': False, 'version': '10.51.27617', 'result': None, 'update': '20180701'}, 'K7GW': {'detected': False, 'version': '10.51.27616', 'result': None, 'update': '20180701'}, 'TheHacker': {'detected': False, 'version': '6.8.0.5.3218', 'result': None, 'update': '20180628'}, 'Baidu': {'detected': False, 'version': '1.0.0.2', 'result': None, 'update': '20180628'}, 'NANO-Antivirus': {'detected': False, 'version': '1.0.116.23366', 'result': None, 'update': '20180701'}, 'Cyren': {'detected': False, 'version': '6.0.0.4', 'result': None, 'update': '20180701'}, 'Symantec': {'detected': False, 'version': '1.6.0.0', 'result': None, 'update': '20180630'}, 'ESET-NOD32': {'detected': False, 'version': '17641', 'result': None, 'update': '20180701'}, 'Avast': {'detected': False, 'version': '18.4.3895.0', 'result': None, 'update': '20180701'}, 'ClamAV': {'detected': False, 'version': '0.99.2.0', 'result': None, 'update': '20180701'}, 'Kaspersky': {'detected': False, 'version': '15.0.1.13', 'result': None, 'update': '20180701'}, 'BitDefender': {'detected': False, 'version': '7.2', 'result': None, 'update': '20180701'}, 'Babable': {'detected': False, 'version': '9107201', 'result': None, 'update': '20180406'}, 'AegisLab': {'detected': False, 'version': '4.2', 'result': None, 'update': '20180701'}, 'Ad-Aware': {'detected': False, 'version': '3.0.5.370', 'result': None, 'update': '20180701'}, 'Emsisoft': {'detected': False, 'version': '4.0.2.899', 'result': None, 'update': '20180701'}, 'Comodo': {'detected': False, 'version': '29269', 'result': None, 'update': '20180701'}, 'F-Secure': {'detected': False, 'version': '11.0.19100.45', 'result': None, 'update': '20180701'}, 'DrWeb': {'detected': True, 'version': '7.0.33.6080', 'result': 'Linux.Siggen.685', 'update': '20180701'}, 'VIPRE': {'detected': False, 'version': '67794', 'result': None, 'update': '20180701'}, 'McAfee-GW-Edition': {'detected': False, 'version': 'v2017.2786', 'result': None, 'update': '20180701'}, 'Sophos': {'detected': False, 'version': '4.98.0', 'result': None, 'update': '20180701'}, 'F-Prot': {'detected': False, 'version': '4.7.1.166', 'result': None, 'update': '20180701'}, 'Jiangmin': {'detected': False, 'version': '16.0.100', 'result': None, 'update': '20180701'}, 'Webroot': {'detected': False, 'version': '1.0.0.403', 'result': None, 'update': '20180701'}, 'Avira': {'detected': False, 'version': '8.3.3.6', 'result': None, 'update': '20180701'}, 'Fortinet': {'detected': False, 'version': '5.4.247.0', 'result': None, 'update': '20180701'}, 'Antiy-AVL': {'detected': False, 'version': '3.0.0.1', 'result': None, 'update': '20180701'}, 'Kingsoft': {'detected': False, 'version': '2013.8.14.323', 'result': None, 'update': '20180701'}, 'Arcabit': {'detected': False, 'version': '1.0.0.831', 'result': None, 'update': '20180701'}, 'ViRobot': {'detected': False, 'version': '2014.3.20.0', 'result': None, 'update': '20180630'}, 'ZoneAlarm': {'detected': False, 'version': '1.0', 'result': None, 'update': '20180701'}, 'Avast-Mobile': {'detected': False, 'version': '180630-04', 'result': None, 'update': '20180701'}, 'Microsoft': {'detected': False, 'version': '1.1.15000.2', 'result': None, 'update': '20180701'}, 'AhnLab-V3': {'detected': False, 'version': '3.12.1.21240', 'result': None, 'update': '20180630'}, 'McAfee': {'detected': False, 'version': '6.0.6.653', 'result': None, 'update': '20180701'}, 'AVware': {'detected': False, 'version': '1.6.0.52', 'result': None, 'update': '20180701'}, 'MAX': {'detected': False, 'version': '2017.11.15.1', 'result': None, 'update': '20180701'}, 'VBA32': {'detected': False, 'version': '3.12.32.0', 'result': None, 'update': '20180629'}, 'Zoner': {'detected': False, 'version': '1.0', 'result': None, 'update': '20180701'}, 'Tencent': {'detected': False, 'version': '1.0.0.1', 'result': None, 'update': '20180701'}, 'Yandex': {'detected': False, 'version': '5.5.1.3', 'result': None, 'update': '20180629'}, 'TACHYON': {'detected': False, 'version': '2018-07-01.02', 'result': None, 'update': '20180701'}, 'GData': {'detected': False, 'version': 'A:25.17646B:25.12620', 'result': None, 'update': '20180701'}, 'AVG': {'detected': False, 'version': '18.4.3895.0', 'result': None, 'update': '20180701'}, 'Panda': {'detected': False, 'version': '4.6.4.2', 'result': None, 'update': '20180701'}, 'Qihoo-360': {'detected': False, 'version': '1.0.0.1120', 'result': None, 'update': '20180701'}}, 'scan_id': '4e358dc919d909f270195099b6e3763beb913b0555d6ea265ba1cf2fd95a7890-1530438235', 'sha1': '8454321e44fd7f9ab7f33841af5d7bcf06f8801e', 'resource': '4e358dc919d909f270195099b6e3763beb913b0555d6ea265ba1cf2fd95a7890', 'response_code': 1, 'scan_date': '2018-07-01 09:43:55', 'permalink': 'https://www.virustotal.com/file/4e358dc919d909f270195099b6e3763beb913b0555d6ea265ba1cf2fd95a7890/analysis/1530438235/', 'verbose_msg': 'Scan finished, information embedded', 'total': 56, 'positives': 1, 'sha256': '4e358dc919d909f270195099b6e3763beb913b0555d6ea265ba1cf2fd95a7890', 'md5': '65648cab1213d08f4d1c39d89ec3a997'}\n"
     ]
    }
   ],
   "source": [
    "import requests\n",
    "import sys\n",
    "import json\n",
    "import os\n",
    "import configparser\n",
    "from configparser import ConfigParser\n",
    "import time\n",
    "\n",
    "Sleep_Time = 15 #We set wait time to 15 seconds because, Public API only can handle 4 request per minute. \n",
    "\n",
    "class colored:\n",
    "    REDBG = '\\033[41m'\n",
    "    GREENBG = '\\033[42m'\n",
    "    ORANGEBG = '\\033[43m'\n",
    "    CWHITEBG = '\\33[47m'\n",
    "\n",
    "def get_info(response):\n",
    "    vt_info = {\n",
    "        \"hash\" : \"-\",\n",
    "        \"results\" : \"- / -\",\n",
    "        \"virus\" : \"-\",\n",
    "        \"filename\" : \"-\",\n",
    "        \"positives\" : 0,\n",
    "        \"filetype\" : \"-\",\n",
    "        \"first_visited\" : \"-\",\n",
    "        \"verbos_msg\" : \"-\",\n",
    "        \"total\" : 0,\n",
    "    }\n",
    "    vt_info[\"hash\"] = response.get(\"hash\")\n",
    "    vt_info[\"positives\"] = response.get(\"positives\")\n",
    "    vt_info[\"filename\"] = response.get(\"filename\")\n",
    "    vt_info[\"verbos_msg\"] = response.get(\"verbos_msg\")\n",
    "    vt_info[\"total\"] = response.get(\"total\")\n",
    "    \n",
    "    return vt_info\n",
    "    \n",
    "def get_score(response):\n",
    "    try:\n",
    "        code_resp = response.json()['response_code']\n",
    "    except Exception as e :\n",
    "        print(\"error\")\n",
    "        \n",
    "    if code_resp == 0:\n",
    "        print('\\33[47m'+\"Unknown\")\n",
    "    elif 0 < response.json()['positives'] <= 1:\n",
    "        print('\\033[43m'+\"Suspicious\")\n",
    "    elif 1 < response.json()['positives'] :\n",
    "        print('\\033[41m'+\"Malicious\")\n",
    "    elif response.json()['positives'] == 0:\n",
    "        print('\\033[42m'+\"clean\")\n",
    "\n",
    "def print_output(response):\n",
    "    \n",
    "    try:\n",
    "        get_score(response)\n",
    "        respe = response.json()\n",
    "        print( respe)\n",
    "\n",
    "    except JSONDecodeError as e:\n",
    "        print(\"error\")\n",
    "        \n",
    "        \n",
    "        \n",
    "if __name__ == '__main__':\n",
    "    config = configparser.ConfigParser()\n",
    "    try:\n",
    "        config.read('conf.cfg')\n",
    "        VT_API_KEY = config['API_KEY']['VT_API_KEY']\n",
    "    except:\n",
    "        print('Config file not found!')\n",
    "        sys.exit(1)\n",
    "\n",
    "    #Read Hashes from File\n",
    "    try:\n",
    "        with open('sample_hash.txt','r', newline=None) as file:\n",
    "            for line in file:\n",
    "                params = {\n",
    "                    'apikey': VT_API_KEY,\n",
    "                    'resource': line\n",
    "                }\n",
    "                response = requests.get('https://www.virustotal.com/vtapi/v2/file/report', params=params)\n",
    "                print_output(response)\n",
    "                \n",
    "                time.sleep(Sleep_Time)\n",
    "    except Exception as excp:\n",
    "        print('Cannot read the file')\n",
    "        sys.exit(1)"
   ]
  },
  {
   "cell_type": "code",
   "execution_count": null,
   "metadata": {},
   "outputs": [],
   "source": []
  }
 ],
 "metadata": {
  "kernelspec": {
   "display_name": "Python 3",
   "language": "python",
   "name": "python3"
  },
  "language_info": {
   "codemirror_mode": {
    "name": "ipython",
    "version": 3
   },
   "file_extension": ".py",
   "mimetype": "text/x-python",
   "name": "python",
   "nbconvert_exporter": "python",
   "pygments_lexer": "ipython3",
   "version": "3.6.5"
  }
 },
 "nbformat": 4,
 "nbformat_minor": 2
}
